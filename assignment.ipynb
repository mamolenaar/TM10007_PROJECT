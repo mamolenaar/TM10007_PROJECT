{
  "nbformat": 4,
  "nbformat_minor": 0,
  "metadata": {
    "colab": {
      "name": "assignment.ipynb",
      "provenance": [],
      "collapsed_sections": []
    },
    "kernelspec": {
      "display_name": "Python 3",
      "language": "python",
      "name": "python3"
    },
    "language_info": {
      "codemirror_mode": {
        "name": "ipython",
        "version": 3
      },
      "file_extension": ".py",
      "mimetype": "text/x-python",
      "name": "python",
      "nbconvert_exporter": "python",
      "pygments_lexer": "ipython3",
      "version": "3.7.4"
    }
  },
  "cells": [
    {
      "cell_type": "markdown",
      "metadata": {
        "colab_type": "text",
        "id": "7SXpaKwwGe5x"
      },
      "source": [
        "# TM10007 Assignment template"
      ]
    },
    {
      "cell_type": "code",
      "metadata": {
        "colab_type": "code",
        "id": "CiDn2Sk-VWqE",
        "outputId": "16e1a746-7577-4e7b-b8c6-b7f7034ce528",
        "colab": {
          "base_uri": "https://localhost:8080/",
          "height": 34
        }
      },
      "source": [
        "# Run this to use from colab environment\n",
        "!pip install -q --upgrade git+https://github.com/sirivandermeijden/TM10007_PROJECT_SvdMeijden_MMolenaar     "
      ],
      "execution_count": 0,
      "outputs": [
        {
          "output_type": "stream",
          "text": [
            "  Building wheel for brats (setup.py) ... \u001b[?25l\u001b[?25hdone\n"
          ],
          "name": "stdout"
        }
      ]
    },
    {
      "cell_type": "markdown",
      "metadata": {
        "id": "r4ZsvmQBVuXM",
        "colab_type": "text"
      },
      "source": [
        " ##Taakverdeling eindopdracht:\n",
        "\n",
        "\n",
        "---\n",
        "\n",
        "\n",
        "\n",
        "1.   **Datapreperatie**\n",
        "\n",
        "\n",
        "* *Verwijderen duplicaten kolommen (als aanwezig)*   DONE \n",
        "*  *Nulwaarden verwijderen* (Siri)        DONE\n",
        "* *Trainingset/validatieset* (Mitch)       DONE\n",
        "* Test for outliers (Mitch)  DONE\n",
        "*  *Scaling features (Mitch)*   DONE\n",
        "* PCA? (Siri)\n",
        "* Feature selection (Siri)\n",
        "\n",
        "\n",
        "2.   **Random Forest**\n",
        "* Bagging/bootstrap aggregating \n",
        "* Hyperparameter tuning\n",
        "* Ensembling \n",
        "3. **Support Vector Machine**\n",
        "* Kernel\n",
        "* Hyperparameter tuning \n",
        "4. **Multilayer neural network** \n",
        "* Activation and loss function\n",
        "5. **Convolutional NN/Recurrent NN** \n",
        "(Ik weet niet zeker of we deze ook moeten toepassen) \n",
        "\n",
        "\n",
        "Checklist punten verslag / punten om overna te denken /overwegingen\n",
        "1. Datapreparatie\n",
        "- de data is numeriek (geen categorical data).\n",
        "- De samples met de meest missende feature waardes: HN1106 (16 missing values), HN1600 (14 missing values), HN1760 (17 missing values). De rest van de data heeft 0, 3 of 7 features die 0 zijn. \n",
        "- De features met de meest missende sample waardes: tff_GLRLM_GrayLevelVariance (54 missing features), tff_GLSZM_GrayLevelVariance (54 missing features), tf_GLSZM_ZoneVariane (53), Tf_NGTDM_Busyness (54),  Tf_NGTDM_complexity (54),  Tf_NGTDM_contrast (54),  Tf_NGTDM_Strength (54). Veel missende waardes komen voor onder verschillende features. De andere features hebbben 0, 3 of 5 missende waarden.\n",
        "- Er zijn weinig outliers (Zscore>3). \n",
        "\n",
        "Keuze: Omdat we relatief weinig samples hebben (113) is het niet handig om de samples weg te halen. Het lijkt mij handig om de features die veel samples missen te verwijderen. Verder is het onduidelijk of we zomaar alle nullen kunnen imputeren. Sommige features kunnen bijvoorbeeld echt de waarde 0 hebben (misschien moeten we dit zien als discussiepunt). We hoeven scaling niet aan te passen omdat we weinig outliers hebben. \n",
        "\n",
        "- We nemen aan dat basic classifiers (KNN, linear, quadratic etc.) te simpel zijn om te gebruiken (toch?). Wat kan het doen van feature selection hierover zeggen?\n",
        "Als we toch basic classifiers gebruiken, moeten we hier voorafgaand PCA op toepassen?\n",
        "\n",
        "28 maart: (Siri)\n",
        "* Imputing: KNN classifier om missende data te imputeren voor scaling.\n",
        "\n",
        "* Scaling: Standaard scaling toepassen om data normaal verdeeld rondom 0 te krijgen, nodig voor bepaalde classifiers (SVM, NN etc.), scaling wordt ook toegepast op test en validatie set. \n",
        "\n",
        "\n",
        "\n"
      ]
    },
    {
      "cell_type": "code",
      "metadata": {
        "id": "SLL0JMQodTOk",
        "colab_type": "code",
        "colab": {}
      },
      "source": [
        "######## Import packages and models ##########################################\n",
        "\n",
        "# Import general packages\n",
        "import pandas as pd\n",
        "import numpy as np \n",
        "import pandas as pd\n",
        "import matplotlib.pyplot as plt\n",
        "from sklearn import datasets as ds\n",
        "import seaborn\n",
        "from sklearn import model_selection\n",
        "\n",
        "# import classifiers\n",
        "from sklearn import model_selection\n",
        "from sklearn.naive_bayes import GaussianNB\n",
        "from sklearn.discriminant_analysis import LinearDiscriminantAnalysis\n",
        "from sklearn.discriminant_analysis import QuadraticDiscriminantAnalysis\n",
        "from sklearn.linear_model import LogisticRegression\n",
        "from sklearn.linear_model import SGDClassifier\n",
        "from sklearn.tree import DecisionTreeClassifier\n",
        "from sklearn.neighbors import KNeighborsClassifier\n",
        "from sklearn import svm\n",
        "\n",
        "# import models\n",
        "models = [\n",
        "    ('NB', GaussianNB()),\n",
        "    ('LDA', LinearDiscriminantAnalysis()),\n",
        "    ('QDA', QuadraticDiscriminantAnalysis()),\n",
        "    ('LR', LogisticRegression()),\n",
        "    ('SGD', SGDClassifier()),\n",
        "    ('DT', DecisionTreeClassifier()),\n",
        "    ('KNN', KNeighborsClassifier()),   #hieronder verdere modellen toevoegen\n",
        "]\n",
        "\n",
        "# Import datapreprocessing\n",
        "from sklearn.impute import SimpleImputer\n",
        "from sklearn.experimental import enable_iterative_imputer\n",
        "from sklearn.impute import IterativeImputer\n",
        "from sklearn.impute import KNNImputer\n",
        "from sklearn import preprocessing\n",
        "from sklearn import feature_selection \n",
        "\n",
        "# Import split data in train and test set\n",
        "from sklearn.model_selection import train_test_split\n",
        "from sklearn.model_selection import cross_val_score # allows one scoring metric\n",
        "from sklearn.model_selection import cross_validate # allows us to use multiple scoring metrics\n",
        "\n",
        "# Import metrics\n",
        "from sklearn import metrics"
      ],
      "execution_count": 0,
      "outputs": []
    },
    {
      "cell_type": "code",
      "metadata": {
        "colab_type": "code",
        "outputId": "513e9abc-5d07-4192-fabe-367832ce7bcf",
        "id": "jXWMIEjQ8QGv",
        "colab": {
          "base_uri": "https://localhost:8080/",
          "height": 85
        }
      },
      "source": [
        "# Data loading functions. \n",
        "from hn.load_data import load_data\n",
        "data = load_data()\n",
        "print(f'The number of samples: {len(data.index)}')\n",
        "print(f'The number of columns: {len(data.columns)}')\n",
        "data.info\n",
        "# Find labels assigned for tumor classification \n",
        "def unique(list1): \n",
        "    x = np.array(list1) \n",
        "    print(np.unique(x)) \n",
        "\n",
        "print(\"The unique labels assigned to each patient for tumor classification are \") \n",
        "unique(data['label'])\n",
        "\n",
        "########################## Data preperation ##########################\n",
        "# Map T12 and T34 to 0 and 1 respectively\n",
        "mapping = {'T12': 0, 'T34': 1}\n",
        "data=data.replace({'label': mapping})\n",
        "# Select data with label\n",
        "y= data['label']\n",
        "# select data without labels\n",
        "X = data.drop(['label'], axis=1)\n",
        "# delete duplicated columns if available\n",
        "data = data.loc[:,~data.columns.duplicated()] \n",
        "\n",
        "# Splitting data sets\n",
        "X_train, X_test, y_train, y_test = train_test_split(X, y, test_size=0.2, random_state=42) # split train and test so that we don't touch test set.\n",
        "X_train, X_val, y_train, y_val = train_test_split(X_train, y_train, test_size=0.2, random_state=1) # split train in validation and train set\n",
        "\n",
        "# Remove features with >53 missing values.\n",
        "X_train = (X_train.drop(['tf_GLRLM_GrayLevelVariance', 'tf_GLSZM_GrayLevelVariance', 'tf_GLSZM_ZoneVariance', 'tf_NGTDM_Busyness', 'tf_NGTDM_Complexity', 'tf_NGTDM_Contrast', 'tf_NGTDM_Strength'], axis=1))\n",
        "X_val = (X_val.drop(['tf_GLRLM_GrayLevelVariance', 'tf_GLSZM_GrayLevelVariance', 'tf_GLSZM_ZoneVariance', 'tf_NGTDM_Busyness', 'tf_NGTDM_Complexity', 'tf_NGTDM_Contrast', 'tf_NGTDM_Strength'], axis=1))\n",
        "X_test = (X_test.drop(['tf_GLRLM_GrayLevelVariance', 'tf_GLSZM_GrayLevelVariance', 'tf_GLSZM_ZoneVariance', 'tf_NGTDM_Busyness', 'tf_NGTDM_Complexity', 'tf_NGTDM_Contrast', 'tf_NGTDM_Strength'], axis=1))\n",
        "\n",
        "\n",
        "# Impute missing data using KNN\n",
        "X_train = X_train.replace(0, np.nan)\n",
        "\n",
        "imp = KNNImputer(n_neighbors=2, weights=\"uniform\")     #imp = SimpleImputer(missing_values=np.nan, strategy='mean') # impute NaN values with mean values\n",
        "X_train_imp=pd.DataFrame(imp.fit_transform(X_train))\n",
        "X_train_imp.columns=X_train.columns\n",
        "X_train_imp.index=X_train.index\n",
        "\n",
        "# scale both the training and test set, a standard scaler is used \n",
        "scaler = preprocessing.StandardScaler()\n",
        "scaler.fit(X_train_imp)\n",
        "\n",
        "X_train= scaler.transform(X_train_imp)\n",
        "X_val = scaler.transform(X_val)\n",
        "X_test = scaler.transform(X_test)\n",
        "\n"
      ],
      "execution_count": 0,
      "outputs": [
        {
          "output_type": "stream",
          "text": [
            "The number of samples: 113\n",
            "The number of columns: 160\n",
            "The unique labels assigned to each patient for tumor classification are \n",
            "['T12' 'T34']\n"
          ],
          "name": "stdout"
        }
      ]
    },
    {
      "cell_type": "code",
      "metadata": {
        "id": "FBzpk3TStarU",
        "colab_type": "code",
        "outputId": "f844904e-1833-42c7-fa5a-7ac305dee4af",
        "colab": {
          "base_uri": "https://localhost:8080/",
          "height": 299
        }
      },
      "source": [
        "##########################Support Vector Machine##########################################\n",
        "\n",
        "# Use recursive feature elimination (RFE)\n",
        "\n",
        "# Create the RFE object and compute a cross-validated score.\n",
        "svc = svm.SVC(kernel=\"linear\")\n",
        "\n",
        "# classifications using 5-fold stratified cross validation \n",
        "rfecv = feature_selection.RFECV(\n",
        "    estimator=svc, step=1, \n",
        "    cv=model_selection.StratifiedKFold(5),\n",
        "    scoring='roc_auc')\n",
        "rfecv.fit(X_train, y_train)\n",
        "\n",
        "# Plot number of features VS. cross-validation scores\n",
        "plt.figure()\n",
        "plt.xlabel(\"Number of features selected\")\n",
        "plt.ylabel(\"Cross validation score (nb of correct classifications)\")\n",
        "plt.plot(range(1, len(rfecv.grid_scores_) + 1), rfecv.grid_scores_)\n",
        "plt.show()\n"
      ],
      "execution_count": 0,
      "outputs": [
        {
          "output_type": "display_data",
          "data": {
            "image/png": "[encoded data removed]",
            "text/plain": [
              "<Figure size 432x288 with 1 Axes>"
            ]
          },
          "metadata": {
            "tags": []
          }
        }
      ]
    },
    {
      "cell_type": "code",
      "metadata": {
        "colab_type": "code",
        "id": "Qj3B9U0P8g2m",
        "colab": {}
      },
      "source": [
        "## hieroner moet nog verder getest worden/ aan\n",
        "##########################Comparing models: simple classifiers ###########################\n",
        "\n",
        "\n",
        "# Hieronder toepassen van de verschillende modellen op de trainingsdata. Vervolgens berekenen metrics op validatie set. \n",
        "# Bereking metrics op testset is nog niet gebeurt. Hiervoor moet nog optimalisatie van parameters plaatsvinden (hoeveel splitsingen zijn nodig etc.)\n",
        "dic= {}\n",
        "scoring = ['roc_auc', 'accuracy', 'f1_macro', 'precision_macro', 'recall_macro']\n",
        "for name, model in models:\n",
        "        clf = model\n",
        "        clf.fit(X_train, y_train)\n",
        "        accuracy = clf.score(X_val, y_val)        # accuracy tested on validation data without cross validation\n",
        "        #accuracy_CV = cross_val_score(clf, X, y, cv=5)\n",
        "        for metric in scoring:                      # cross validation\n",
        "            accuracy_CV = cross_validate(clf, X_val, y_val, cv=5, scoring=metric, return_train_score=False) # cv can also return train score but we set it to false\n",
        "            test_score = accuracy_CV[\"test_score\"]\n",
        "            #dic = {name: test_score}\n",
        "            dic[name, metric]=pd.DataFrame({'mean_score': {0:test_score.mean()}, 'std_score': {0:test_score.std()*2}})\n",
        "##########################Cross- validation###########################"
      ],
      "execution_count": 0,
      "outputs": []
    }
  ]
}